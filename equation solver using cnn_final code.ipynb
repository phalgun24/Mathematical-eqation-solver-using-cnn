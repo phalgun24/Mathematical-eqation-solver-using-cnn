{
  "nbformat": 4,
  "nbformat_minor": 0,
  "metadata": {
    "kernelspec": {
      "display_name": "Python 3",
      "language": "python",
      "name": "python3"
    },
    "language_info": {
      "codemirror_mode": {
        "name": "ipython",
        "version": 3
      },
      "file_extension": ".py",
      "mimetype": "text/x-python",
      "name": "python",
      "nbconvert_exporter": "python",
      "pygments_lexer": "ipython3",
      "version": "3.6.5"
    },
    "colab": {
      "name": "CNN test.ipynb",
      "provenance": [],
      "collapsed_sections": [],
      "include_colab_link": true
    },
    "accelerator": "GPU"
  },
  "cells": [
    {
      "cell_type": "markdown",
      "metadata": {
        "id": "view-in-github",
        "colab_type": "text"
      },
      "source": [
        "<a href=\"https://colab.research.google.com/github/uttkarshrastogi/Clima-Flutter/blob/master/CNN_test.ipynb\" target=\"_parent\"><img src=\"https://colab.research.google.com/assets/colab-badge.svg\" alt=\"Open In Colab\"/></a>"
      ]
    },
    {
      "cell_type": "code",
      "metadata": {
        "id": "tssSlyCARSje"
      },
      "source": [
        "import cv2\n",
        "import numpy\n",
        "from keras.datasets import mnist\n",
        "from keras.models import Sequential\n",
        "from keras.layers import Dense\n",
        "from keras.layers import Dropout\n",
        "from keras.layers import Flatten\n",
        "from keras.layers.convolutional import Conv2D\n",
        "from keras.layers.convolutional import MaxPooling2D\n",
        "from keras.utils import np_utils\n",
        "from keras import backend as K\n",
        "K.image_data_format()\n",
        "from keras.models import model_from_json\n"
      ],
      "execution_count": null,
      "outputs": []
    },
    {
      "cell_type": "code",
      "metadata": {
        "id": "YUu-v4OLRSjk"
      },
      "source": [
        "json_file = open('model_final.json', 'r')\n",
        "loaded_model_json = json_file.read()\n",
        "json_file.close()\n",
        "loaded_model = model_from_json(loaded_model_json)\n",
        "# load weights into new model\n",
        "loaded_model.load_weights(\"model_final.h5\")"
      ],
      "execution_count": null,
      "outputs": []
    },
    {
      "cell_type": "code",
      "metadata": {
        "id": "q7PDqVrlRSjl",
        "colab": {
          "base_uri": "https://localhost:8080/",
          "height": 354
        },
        "outputId": "9000e5ae-b5ed-4566-f9a0-f02235a90a06"
      },
      "source": [
        "import cv2\n",
        "import numpy as np\n",
        "from google.colab.patches import cv2_imshow\n",
        "img = cv2.imread('./test.png',cv2.IMREAD_GRAYSCALE)\n",
        "#kernel = np.ones((3,3),np.uint8)\n",
        "cv2_imshow(img)\n",
        "cv2.waitKey(0)\n",
        "cv2.destroyAllWindows()\n",
        "#erosion = cv2.erode(img,kernel,iterations = 3)\n",
        "#dilation = cv2.dilate(img,kernel,iterations = 1)\n",
        "#img=dilation\n",
        "if img is not None:\n",
        "    #images.append(img)\n",
        "    img=~img\n",
        "    ret,thresh=cv2.threshold(img,127,255,cv2.THRESH_BINARY)\n",
        "    ctrs,ret=cv2.findContours(thresh,cv2.RETR_TREE,cv2.CHAIN_APPROX_SIMPLE)\n",
        "    cnt=sorted(ctrs, key=lambda ctr: cv2.boundingRect(ctr)[0])\n",
        "    w=int(28)\n",
        "    h=int(28)\n",
        "    train_data=[]\n",
        "    #print(len(cnt))\n",
        "    rects=[]\n",
        "    for c in cnt :\n",
        "        x,y,w,h= cv2.boundingRect(c)\n",
        "        rect=[x,y,w,h]\n",
        "        rects.append(rect)\n",
        "    #print(rects)\n",
        "    bool_rect=[]\n",
        "    for r in rects:\n",
        "        l=[]\n",
        "        for rec in rects:\n",
        "            flag=0\n",
        "            if rec!=r:\n",
        "                if r[0]<(rec[0]+rec[2]+10) and rec[0]<(r[0]+r[2]+10) and r[1]<(rec[1]+rec[3]+10) and rec[1]<(r[1]+r[3]+10):\n",
        "                    flag=1\n",
        "                l.append(flag)\n",
        "            if rec==r:\n",
        "                l.append(0)\n",
        "        bool_rect.append(l)\n",
        "    #print(bool_rect)\n",
        "    dump_rect=[]\n",
        "    for i in range(0,len(cnt)):\n",
        "        for j in range(0,len(cnt)):\n",
        "            if bool_rect[i][j]==1:\n",
        "                area1=rects[i][2]*rects[i][3]\n",
        "                area2=rects[j][2]*rects[j][3]\n",
        "                if(area1==min(area1,area2)):\n",
        "                    dump_rect.append(rects[i])\n",
        "    #print(len(dump_rect)) \n",
        "    final_rect=[i for i in rects if i not in dump_rect]\n",
        "    #print(final_rect)\n",
        "    for r in final_rect:\n",
        "        x=r[0]\n",
        "        y=r[1]\n",
        "        w=r[2]\n",
        "        h=r[3]\n",
        "        im_crop =thresh[y:y+h+10,x:x+w+10]\n",
        "        \n",
        "\n",
        "        im_resize = cv2.resize(im_crop,(28,28))\n",
        "        cv2_imshow(im_resize)\n",
        "        cv2.waitKey(0)\n",
        "        cv2.destroyAllWindows()\n",
        "\n",
        "        im_resize=np.reshape(im_resize,(1,28,28))\n",
        "        train_data.append(im_resize)"
      ],
      "execution_count": null,
      "outputs": [
        {
          "output_type": "display_data",
          "data": {
            "image/png": "[encoded data removed]",
            "text/plain": [
              "<PIL.Image.Image image mode=L size=669x309 at 0x7F4C004151D0>"
            ]
          },
          "metadata": {}
        },
        {
          "output_type": "display_data",
          "data": {
            "image/png": "[encoded data removed]",
            "text/plain": [
              "<PIL.Image.Image image mode=L size=28x28 at 0x7F4C00415C10>"
            ]
          },
          "metadata": {}
        }
      ]
    },
    {
      "cell_type": "code",
      "metadata": {
        "id": "tDYy_FX8RSjn",
        "colab": {
          "base_uri": "https://localhost:8080/"
        },
        "outputId": "5bdcbcee-1635-4770-8969-f75cf0eb5c39"
      },
      "source": [
        "s=''\n",
        "for i in range(len(train_data)):\n",
        "    train_data[i]=np.array(train_data[i])\n",
        "    train_data[i]=train_data[i].reshape(1,1,28,28)\n",
        "    predict_x=loaded_model.predict(train_data[i]) \n",
        "    result=np.argmax(predict_x,axis=1)\n",
        "    if(result[0]==10):\n",
        "        s=s+'-'\n",
        "    if(result[0]==11):\n",
        "        s=s+'+'\n",
        "    if(result[0]==12):\n",
        "        s=s+'*'\n",
        "    if(result[0]==0):\n",
        "        s=s+'0'\n",
        "    if(result[0]==1):\n",
        "        s=s+'1'\n",
        "    if(result[0]==2):\n",
        "        s=s+'2'\n",
        "    if(result[0]==3):\n",
        "        s=s+'3'\n",
        "    if(result[0]==4):\n",
        "        s=s+'4'\n",
        "    if(result[0]==5):\n",
        "        s=s+'5'\n",
        "    if(result[0]==6):\n",
        "        s=s+'6'\n",
        "    if(result[0]==7):\n",
        "        s=s+'7'\n",
        "    if(result[0]==8):\n",
        "        s=s+'8'\n",
        "    if(result[0]==9):\n",
        "        s=s+'9'\n",
        "    \n",
        "print(s)    "
      ],
      "execution_count": null,
      "outputs": [
        {
          "output_type": "stream",
          "name": "stdout",
          "text": [
            "4\n"
          ]
        }
      ]
    },
    {
      "cell_type": "code",
      "metadata": {
        "id": "BWEeQhS-RSjo",
        "colab": {
          "base_uri": "https://localhost:8080/"
        },
        "outputId": "e20d85a6-b703-41de-ef50-a8281ff7dcdc"
      },
      "source": [
        "eval(s)"
      ],
      "execution_count": null,
      "outputs": [
        {
          "output_type": "execute_result",
          "data": {
            "text/plain": [
              "4"
            ]
          },
          "metadata": {},
          "execution_count": 10
        }
      ]
    },
    {
      "cell_type": "code",
      "metadata": {
        "id": "_SNxQbgIRSjo"
      },
      "source": [
        ""
      ],
      "execution_count": null,
      "outputs": []
    }
  ]
}